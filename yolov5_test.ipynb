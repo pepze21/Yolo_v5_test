{
 "cells": [
  {
   "cell_type": "code",
   "execution_count": 1,
   "id": "6d5c456a",
   "metadata": {},
   "outputs": [],
   "source": [
    "from glob import glob\n"
   ]
  },
  {
   "cell_type": "code",
   "execution_count": 2,
   "id": "7aecf7d9",
   "metadata": {},
   "outputs": [],
   "source": [
    "train_img_list = glob('C:/Users/2020/dataset/coco128/images/train/*.jpg')\n",
    "val_img_list = glob('C:/Users/2020/dataset/coco128/images/val/*.jpg')\n",
    "# test_img_list = glob('C:/Users/2020/dataset/coco128/images/test/*.jpg')"
   ]
  },
  {
   "cell_type": "code",
   "execution_count": 3,
   "id": "b3d300f7",
   "metadata": {
    "scrolled": false
   },
   "outputs": [
    {
     "name": "stdout",
     "output_type": "stream",
     "text": [
      "118287\n",
      "5000\n"
     ]
    }
   ],
   "source": [
    "print(len(train_img_list))\n",
    "print(len(val_img_list))\n",
    "# print(len(test_img_list))"
   ]
  },
  {
   "cell_type": "code",
   "execution_count": null,
   "id": "4800319e",
   "metadata": {},
   "outputs": [],
   "source": []
  },
  {
   "cell_type": "code",
   "execution_count": 4,
   "id": "d8097a5c",
   "metadata": {},
   "outputs": [],
   "source": [
    "# with open('C:/Users/2020/dataset/coco128/images/train.txt', 'w') as f:\n",
    "#     f.write('\\n'.join(train_img_list) + '\\n')\n",
    "    \n",
    "# with open('C:/Users/2020/dataset/coco128/images/val.txt', 'w') as f:\n",
    "#     f.write('\\n'.join(val_img_list) + '\\n')\n",
    "    \n",
    "# # with open('C:/Users/2020/dataset/test.txt', 'w') as f:\n",
    "# #     f.write('\\n'.join(test_img_list) + '\\n')    "
   ]
  },
  {
   "cell_type": "code",
   "execution_count": 4,
   "id": "d6c79313",
   "metadata": {},
   "outputs": [],
   "source": [
    "with open('C:/Users/2020/dataset/train.txt', 'w') as f:\n",
    "    f.write('\\n'.join(train_img_list) + '\\n')\n",
    "    \n",
    "with open('C:/Users/2020/dataset/val.txt', 'w') as f:\n",
    "    f.write('\\n'.join(val_img_list) + '\\n')\n",
    "    \n",
    "# with open('C:/Users/2020/dataset/test.txt', 'w') as f:\n",
    "#     f.write('\\n'.join(test_img_list) + '\\n')    "
   ]
  },
  {
   "cell_type": "code",
   "execution_count": 5,
   "id": "bdd2f5da",
   "metadata": {},
   "outputs": [
    {
     "name": "stdout",
     "output_type": "stream",
     "text": [
      "{'path': 'C:Users/2020/dataset', 'train': '../coco128/images/train/', 'val': '../coco128/images/val/', 'test': 'images/test', 'nc': 1, 'names': ['bottle'], 'download': 'https://github.com/ultralytics/yolov5/releases/download/v1.0/coco128.zip'}\n"
     ]
    }
   ],
   "source": [
    "import yaml\n",
    "\n",
    "with open('C:/Users/2020/dataset/data.yaml', 'r', encoding='utf-8') as f:\n",
    "    data = yaml.load(f, Loader=yaml.FullLoader)\n",
    "\n",
    "print(data)"
   ]
  },
  {
   "cell_type": "code",
   "execution_count": 6,
   "id": "235a35f4",
   "metadata": {},
   "outputs": [
    {
     "name": "stdout",
     "output_type": "stream",
     "text": [
      "{'path': 'C:Users/2020/dataset', 'train': 'C:/Users/2020/dataset/train.txt', 'val': 'C:/Users/2020/dataset/val.txt', 'test': 'images/test', 'nc': 1, 'names': ['bottle'], 'download': 'https://github.com/ultralytics/yolov5/releases/download/v1.0/coco128.zip'}\n"
     ]
    }
   ],
   "source": [
    "\n",
    "data['train'] = 'C:/Users/2020/dataset/train.txt'\n",
    "data['val'] = 'C:/Users/2020/dataset/val.txt'\n",
    "# data['test'] = 'C:/Users/2020/dataset/test.txt'\n",
    "\n",
    "with open('C:/Users/2020/dataset/data.yaml', 'w') as f:\n",
    "    yaml.dump(data, f)\n",
    "\n",
    "print(data)"
   ]
  },
  {
   "cell_type": "code",
   "execution_count": 7,
   "id": "e1ebccf6",
   "metadata": {},
   "outputs": [
    {
     "name": "stdout",
     "output_type": "stream",
     "text": [
      "C:\\Users\\2020\n"
     ]
    }
   ],
   "source": [
    "%cd .."
   ]
  },
  {
   "cell_type": "code",
   "execution_count": 8,
   "id": "813c923f",
   "metadata": {},
   "outputs": [
    {
     "name": "stdout",
     "output_type": "stream",
     "text": [
      "C:\\Users\\2020\\yolov5\n"
     ]
    }
   ],
   "source": [
    "%cd yolov5"
   ]
  },
  {
   "cell_type": "code",
   "execution_count": null,
   "id": "f6993bfd",
   "metadata": {
    "scrolled": true
   },
   "outputs": [],
   "source": [
    "!python train.py --img 416 --batch 16 --epochs 50 --data C:/Users/2020/dataset/data.yaml --cfg ./models/yolov5s.yaml --weights yolov5s.pt --name prohibited_items_on_board"
   ]
  },
  {
   "cell_type": "code",
   "execution_count": null,
   "id": "d3f55b34",
   "metadata": {},
   "outputs": [],
   "source": [
    "# 03:00 start"
   ]
  },
  {
   "cell_type": "code",
   "execution_count": 1,
   "id": "f0100c26",
   "metadata": {},
   "outputs": [
    {
     "name": "stderr",
     "output_type": "stream",
     "text": [
      "Python was not found; run without arguments to install from the Microsoft Store, or disable this shortcut from Settings > Manage App Execution Aliases.\n"
     ]
    }
   ],
   "source": [
    "# python example.py --datasets COCO --img_path C:/Users/2020/dataset/coco128/images --label C:/Users/2020/dataset/coco128/labels --convert_output_path C:/Users/2020/dataset/coco128 --img_type \".jpg\" --manifest_path ./ --cls_list_file names.txt"
   ]
  },
  {
   "cell_type": "code",
   "execution_count": null,
   "id": "7812721a",
   "metadata": {},
   "outputs": [],
   "source": [
    "# python3 example.py --datasets COCO --img_path C:/Users/2020/dataset/coco128/images --label C:/Users/2020/dataset/coco128/labels --convert_output_path C:/Users/2020/dataset/coco128 --img_type \".jpg\" --manipast_path ./ --cls_list_file names.txt"
   ]
  }
 ],
 "metadata": {
  "kernelspec": {
   "display_name": "Python 3",
   "language": "python",
   "name": "python3"
  },
  "language_info": {
   "codemirror_mode": {
    "name": "ipython",
    "version": 3
   },
   "file_extension": ".py",
   "mimetype": "text/x-python",
   "name": "python",
   "nbconvert_exporter": "python",
   "pygments_lexer": "ipython3",
   "version": "3.8.8"
  }
 },
 "nbformat": 4,
 "nbformat_minor": 5
}
